{
 "cells": [
  {
   "cell_type": "markdown",
   "metadata": {},
   "source": [
    "# Exercise 2: Decision Trees\n",
    "\n",
    "In this assignment you will implement a Decision Tree algorithm as learned in class.\n",
    "\n",
    "## Read the following instructions carefully:\n",
    "\n",
    "1. This jupyter notebook contains all the step by step instructions needed for this exercise.\n",
    "2. Write vectorized code whenever possible.\n",
    "3. You are responsible for the correctness of your code and should add as many tests as you see fit. Tests will not be graded nor checked.\n",
    "4. Write your functions in the provided `hw2.py` python module only. All the logic you write is imported and used in this jupyter notebook.\n",
    "5. You are allowed to use functions and methods from the [Python Standard Library](https://docs.python.org/3/library/) and [numpy](https://www.numpy.org/devdocs/reference/) only. Any other imports detected in `hw2.py` will earn you the grade of 0, even if you only used them for testing.\n",
    "6. Your code must run without errors. During the environment setup, you were given a specific version of `numpy` to install. Changes of the configuration we provided are at your own risk. Code that cannot run will also earn you the grade of 0.\n",
    "7. Write your own code. Cheating will not be tolerated. \n",
    "8. Submission includes the `hw2.py` file and this notebook. Answers to qualitative questions should be written in markdown cells (with $\\LaTeX$ support).\n",
    "9. You are allowed to include additional functions.\n",
    "10. Submission: zip only the completed jupyter notebook and the python file `hw2.py`. Do not include the data or any directories. Name the file `ID1_ID2.zip` and submit only one copy of the assignment.\n",
    "\n",
    "## In this exercise you will perform the following:\n",
    "1. Practice OOP in python.\n",
    "2. Implement two impurity measures: Gini and Entropy.\n",
    "3. Implement a decision tree from scratch.\n",
    "4. Prune the tree to achieve better results.\n",
    "5. Visualize your results and the tree."
   ]
  },
  {
   "cell_type": "code",
   "execution_count": 25,
   "metadata": {
    "deletable": false,
    "editable": false,
    "nbgrader": {
     "checksum": "63bcec20cb406a2169b49168f173c760",
     "grade": false,
     "grade_id": "cell-ed9fe7b1026e33cb",
     "locked": true,
     "schema_version": 1,
     "solution": false
    }
   },
   "outputs": [
    {
     "name": "stdout",
     "output_type": "stream",
     "text": [
      "The autoreload extension is already loaded. To reload it, use:\n",
      "  %reload_ext autoreload\n"
     ]
    }
   ],
   "source": [
    "import numpy as np\n",
    "import pandas as pd\n",
    "import matplotlib.pyplot as plt\n",
    "from hw2 import * # this imports all functions from hw2.\n",
    "\n",
    "# make matplotlib figures appear inline in the notebook\n",
    "%matplotlib inline\n",
    "plt.rcParams['figure.figsize'] = (10.0, 8.0) # set default size of plots\n",
    "plt.rcParams['image.interpolation'] = 'nearest'\n",
    "plt.rcParams['image.cmap'] = 'gray'\n",
    "\n",
    "# Make the notebook automatically reload external python modules\n",
    "%load_ext autoreload\n",
    "%autoreload 2"
   ]
  },
  {
   "cell_type": "code",
   "execution_count": null,
   "metadata": {},
   "outputs": [],
   "source": []
  },
  {
   "cell_type": "markdown",
   "metadata": {},
   "source": [
    "## Warmup - OOP in python\n",
    "\n",
    "Our decision tree will be implemented using a dedicated python class. Python classes are very similar to classes in Java.\n",
    "\n",
    "\n",
    "You can use the following [site](https://jeffknupp.com/blog/2014/06/18/improve-your-python-python-classes-and-object-oriented-programming/) to learn about classes in python."
   ]
  },
  {
   "cell_type": "code",
   "execution_count": 26,
   "metadata": {},
   "outputs": [],
   "source": [
    "class Node(object):\n",
    "    def __init__(self, data):\n",
    "        self.data = data \n",
    "        self.children = []\n",
    "    def add_child(self, node):\n",
    "        self.children.append(node)"
   ]
  },
  {
   "cell_type": "code",
   "execution_count": 27,
   "metadata": {},
   "outputs": [
    {
     "data": {
      "text/plain": [
       "[<__main__.Node at 0x296b836a400>, <__main__.Node at 0x296bae730f0>]"
      ]
     },
     "execution_count": 27,
     "metadata": {},
     "output_type": "execute_result"
    }
   ],
   "source": [
    "n = Node(5)\n",
    "p = Node(6)\n",
    "q = Node(7)\n",
    "n.add_child(p)\n",
    "n.add_child(q)\n",
    "n.children"
   ]
  },
  {
   "cell_type": "markdown",
   "metadata": {},
   "source": [
    "## Data preprocessing\n",
    "\n",
    "We will use the breast cancer dataset that is available as a part of sklearn - a popular machine learning and data science library in python. In this example, our dataset will be a single matrix with the **labels on the last column**. Notice that you are not allowed to use additional functions from sklearn."
   ]
  },
  {
   "cell_type": "code",
   "execution_count": 28,
   "metadata": {
    "deletable": false,
    "editable": false,
    "nbgrader": {
     "checksum": "0e2620b671ce98b8a856d59ce9f95f71",
     "grade": false,
     "grade_id": "cell-d79cb4542926ad3f",
     "locked": true,
     "schema_version": 1,
     "solution": false
    },
    "scrolled": true
   },
   "outputs": [
    {
     "name": "stdout",
     "output_type": "stream",
     "text": [
      "Training dataset shape:  (426, 31)\n",
      "Testing dataset shape:  (143, 31)\n"
     ]
    }
   ],
   "source": [
    "from sklearn import datasets\n",
    "from sklearn.model_selection import train_test_split\n",
    "\n",
    "# load dataset\n",
    "X, y = datasets.load_breast_cancer(return_X_y = True)\n",
    "X = np.column_stack([X,y]) # the last column holds the labels\n",
    "\n",
    "# split dataset\n",
    "X_train, X_test = train_test_split(X, random_state=99)\n",
    "\n",
    "print(\"Training dataset shape: \", X_train.shape)\n",
    "print(\"Testing dataset shape: \", X_test.shape)"
   ]
  },
  {
   "cell_type": "markdown",
   "metadata": {},
   "source": [
    "## Impurity Measures\n",
    "\n",
    "Implement the functions `calc_gini` (5 points) and `calc_entropy` (5 points) in the python file `hw2.py`. You are encouraged to test your implementation using the cell below."
   ]
  },
  {
   "cell_type": "code",
   "execution_count": 29,
   "metadata": {
    "scrolled": true
   },
   "outputs": [
    {
     "name": "stdout",
     "output_type": "stream",
     "text": [
      "gini measure: 0.47768299940488\n",
      "entropy measure: 0.6706611269042888\n"
     ]
    }
   ],
   "source": [
    "gini = calc_gini(X_train)\n",
    "print(\"gini measure:\",gini)\n",
    "entropy = calc_entropy(X_train)\n",
    "print(\"entropy measure:\",entropy)"
   ]
  },
  {
   "cell_type": "markdown",
   "metadata": {},
   "source": [
    "## Building a Decision Tree\n",
    "\n",
    "Use a Python class to construct the decision tree (look at the `DecisionNode` class in the python file `hw2.py`. Your class should support the following functionality:\n",
    "\n",
    "1. Initiating a node for a decision tree. You will need to use several class methods and class attributes and you are free to use them as you see fit. We recommend that every node will hold the feature and value used for the split and its children.\n",
    "2. Your code should support both Gini and Entropy as impurity measures. \n",
    "3. The provided data includes continuous data. In this exercise, create at most a single split for each node of the tree. The threshold you need to use for this exercise are the average of each consecutive pair of values. For example, assume some features contains the following values: [1,2,3,4,5]. You should use the following thresholds [1.5, 2.5, 3.5, 4.5]. \n",
    "4. When constructing the tree, test all possible thresholds for each feature. The stopping criteria is a pure tree.\n",
    "\n",
    "Complete the class `DecisionNode` in the python file `hw2.py`. The structure of this class is entirely up to you. Complete the function `build_tree` in the python file `hw2.py`. This function should get the training dataset and the impurity as inputs, initiate a root for the decision tree and construct the tree according to the procedure you learned in class. (30 points)."
   ]
  },
  {
   "cell_type": "code",
   "execution_count": 30,
   "metadata": {
    "scrolled": false
   },
   "outputs": [],
   "source": [
    "# python support passing a function as arguments to another function.\n",
    "\n",
    "tree_gini, leaves = build_tree(data=X_train, impurity=calc_gini) \n",
    "tree_entropy, leaves = build_tree(data=X_train, impurity=calc_entropy)"
   ]
  },
  {
   "cell_type": "markdown",
   "metadata": {},
   "source": [
    "## Tree evaluation\n",
    "\n",
    "Complete the functions `predict` and `calc_accuracy` in the python file `hw2.py`. You are allowed to implement this functionality as a class method.\n",
    "\n",
    "After building both trees using the training set (using Gini and Entropy as impurity measures), you should calculate the accuracy on the test set and print the measure that gave you the best test accuracy. For the rest of the exercise, use that impurity measure. (10 points)"
   ]
  },
  {
   "cell_type": "code",
   "execution_count": 31,
   "metadata": {},
   "outputs": [
    {
     "name": "stdout",
     "output_type": "stream",
     "text": [
      "entropy: 0.9370629370629371\n"
     ]
    }
   ],
   "source": [
    "gini = calc_accuracy(tree_gini, X_test)\n",
    "entropy = calc_accuracy(tree_entropy, X_test)\n",
    "if gini > entropy:\n",
    "    print(\"gini:\",gini)\n",
    "else:\n",
    "    print(\"entropy:\",entropy)"
   ]
  },
  {
   "cell_type": "markdown",
   "metadata": {},
   "source": [
    "## Chi square pre-pruning\n",
    "\n",
    "Consider the following p-value cut-off values: [1 (no pruning), 0.01, 0.005, 0.001, 0.0005, 0.0001, 0.00001]. For each value, construct a tree and prune it according to the cut-off value. Next, calculate the training and testing accuracy. On a single plot, draw the training and testing accuracy as a function of the p-value. What p-value gives you the best results? Does the results support the theory you learned in class regarding Chi square pruning? Explain. (20 points)\n",
    "\n",
    "**Note**: You need to change the `DecisionNode` to support Chi square pruning. Make sure the `chi_value=1` corresponds to no pruning. The values you need from the Chi square table are available in the python file `hw2.py`."
   ]
  },
  {
   "cell_type": "code",
   "execution_count": 32,
   "metadata": {},
   "outputs": [],
   "source": [
    "def chi_square(node, a, b):\n",
    "    chi_square = 0\n",
    "    D = len(node.data)\n",
    "    P1 = sum(node.data[:,-1]) / D\n",
    "    P0 = (D - sum(node.data[:,-1])) / D\n",
    "    p_a = (len(a) - sum(a[:,-1])) \n",
    "    p_b = (len(b) - sum(b[:,-1]))\n",
    "    n_a = sum(a[:,-1])\n",
    "    n_b = sum(b[:,-1])\n",
    "    E0_a = len(a) * P0\n",
    "    E1_a = len(a) * P1\n",
    "    E0_b = len(b) * P0\n",
    "    E1_b = len(b) * P1\n",
    "    chi_a = (((p_a - E0_a)**2)/E0_a) + (((n_a - E1_a)**2)/E1_a)\n",
    "    chi_b = (((p_b - E0_b)**2)/E0_b) + (((n_b - E1_b)**2)/E1_b)\n",
    "    chi_square = chi_a + chi_b\n",
    "    return chi_square\n",
    "                       \n",
    "\n",
    "def build_tree_chi(data, impurity, chi_value):\n",
    "    root = None\n",
    "    root = DecisionNode(None,None)\n",
    "    root.data = data\n",
    "    build_tree_2_chi(root, impurity, chi_value)\n",
    "    return root\n",
    "\n",
    "def build_tree_2_chi(node, impurity, chi_value):\n",
    "    if impurity(node.data) == 0:\n",
    "        return node\n",
    "    feature, split_value, a, b = find_best_split(node.data, impurity)\n",
    "    node.value = split_value\n",
    "    node.feature = feature\n",
    "    if chi_square(node, a, b) >= chi_value:\n",
    "        node_a = DecisionNode(None,None)\n",
    "        node_a.data = a\n",
    "        node_b = DecisionNode(None,None)\n",
    "        node_b.data = b\n",
    "        node.add_child(node_a)\n",
    "        node.add_child(node_b)\n",
    "        build_tree_2_chi(node_a, impurity, chi_value)\n",
    "        build_tree_2_chi(node_b, impurity, chi_value)\n",
    "    return node"
   ]
  },
  {
   "cell_type": "code",
   "execution_count": 33,
   "metadata": {},
   "outputs": [],
   "source": [
    "training = []\n",
    "testing  = []\n",
    "\n",
    "for chi_value in [1, 0.01, 0.005, 0.001, 0.0005, 0.0001, 0.00001]:\n",
    "    if chi_value == 1:\n",
    "        tree, leaves = build_tree(X_train, calc_entropy)\n",
    "        testing.append(calc_accuracy(tree,X_test))\n",
    "        training.append(calc_accuracy(tree,X_train))\n",
    "    else:    \n",
    "        tree = build_tree_chi(X_train, calc_entropy, chi_table.get(chi_value))\n",
    "        testing.append(calc_accuracy(tree,X_test))\n",
    "        training.append(calc_accuracy(tree,X_train))"
   ]
  },
  {
   "cell_type": "code",
   "execution_count": 34,
   "metadata": {},
   "outputs": [
    {
     "data": {
      "image/png": "[encoded data removed]",
      "text/plain": [
       "<Figure size 720x576 with 1 Axes>"
      ]
     },
     "metadata": {
      "needs_background": "light"
     },
     "output_type": "display_data"
    }
   ],
   "source": [
    "training = np.array(training)\n",
    "x = np.array([1, 6.635, 7.879, 10.828, 12.116, 15.140, 19.511])\n",
    "plt.plot(x, training)\n",
    "plt.title('Accuracy as a function of Chi Values')\n",
    "testing = np.array(testing)\n",
    "x = np.array([1, 6.635, 7.879, 10.828, 12.116, 15.140, 19.511])\n",
    "plt.plot(x, testing)\n",
    "plt.ylabel('accuracy')\n",
    "plt.xlabel('chi values')\n",
    "plt.show()"
   ]
  },
  {
   "cell_type": "markdown",
   "metadata": {},
   "source": [
    "ANSWER:\n",
    "\n",
    "The chi-Value of around 0.01 gives us the best accuracy on the testing set. As expected, at first pruning the graph lowers our training accuracy (obviously), but improves the testing accuracy as our tree becomes a better clasiffier for \"reality\" (lowers over-fitting). However, once we continue to prune with higher chi-values over our \"best accuracy threshold\", as the tree becomes smaller, so does the accuracy of the predictions of the testing set.\n",
    "In order to find the optimal Chi-value, we can keep track of the greatest accuracy on the testing set during the run.\n",
    "We can improve our accuracy in several ways. First of all, now that we have seen that around 7.5 the testing accuracy is at its best, we can \"zoom in\" and try smaller-increment numbers between 6.5 and 9 for example, to get to a more exact best chi-value.\n",
    "Furthermore, we could use several different random testing sets, and compare our accuracy values as a function of chi-values between the different sets. Thus we can further fine-tune our findings and use the best chi-value we can."
   ]
  },
  {
   "cell_type": "markdown",
   "metadata": {},
   "source": [
    "## Post pruning\n",
    "\n",
    "Construct a decision tree without Chi square pruning. For each leaf in the tree, calculate the test accuracy of the tree assuming no split occurred on the parent of that leaf and find the best such parent (in the sense that not splitting on that parent results in the best testing accuracy among possible parents). Make that parent into a leaf and repeat this process until you are left with just the root. On a single plot, draw the training and testing accuracy as a function of the number of internal nodes in the tree. Explain the results: what would happen to the training and testing accuracies when you remove nodes from the tree? Can you suggest a different approach to achieve better results? (20 points)"
   ]
  },
  {
   "cell_type": "code",
   "execution_count": 35,
   "metadata": {},
   "outputs": [
    {
     "data": {
      "image/png": "[encoded data removed]",
      "text/plain": [
       "<Figure size 720x576 with 1 Axes>"
      ]
     },
     "metadata": {
      "needs_background": "light"
     },
     "output_type": "display_data"
    }
   ],
   "source": [
    "accuracy_test, internal_nodes_test = prune_tree(X_train, X_test)\n",
    "accuracy_train, internal_nodes_train = prune_tree(X_train, X_train)\n",
    "\n",
    "accuracy_test = np.array(accuracy_test)\n",
    "x = np.array(internal_nodes_test)\n",
    "plt.plot(x, accuracy_test)\n",
    "plt.title('Accuracy as a function of number of internal nodes')\n",
    "accuracy_train = np.array(accuracy_train)\n",
    "x = np.array(internal_nodes_train)\n",
    "plt.plot(x, accuracy_train)\n",
    "plt.ylabel('accuracy')\n",
    "plt.xlabel('number of internal node')\n",
    "plt.show()"
   ]
  },
  {
   "cell_type": "markdown",
   "metadata": {},
   "source": [
    "ANSWER:\n",
    "We read the graph from right to left, as our algorithm first builds the graph and only then prunes parents, as needed. As expected, the first prunings lower the training accuracy, but raise the testing accuracy. This is as once again, our decision tree lowers its overfitting and becomes more fit for \"reality\" and less for the specific data it was built on. At a certain point in the pruning, the testing accuracy begins to drop as well, as our tree becomes \"less efficient\" in its prediction. \n",
    "The ideal number of internal nodes seems to be between 7-10, at which point our testing accuracy is at its highest.\n",
    "In order to optimize the method, we can continue to record the accuracy result as we do, but stop the pruning at the first iteration in which the testing accuracy drops. That is, take the exact pruned tree on which the prediction accuracy on the testing set is at its highest.\n",
    "In order to improve the results, we can increase the size and amount of testing sets we use. This will give us a lower chance of \"extreme outliers\" in our data, as well as more tests on just how much to prune the tree after creating it. Once we reach optimal accuracy percentages between the different testing sets, we will have made a tree that we know is optimally predictive of reality and less fitted directly to the data it was built with."
   ]
  },
  {
   "cell_type": "markdown",
   "metadata": {},
   "source": [
    "## Print the tree\n",
    "\n",
    "Complete the function `print_tree` in the python file `hw2.py` and print the tree using the chosen impurity measure and no pruning. Your code should like something like this (10 points):\n",
    "```\n",
    "[X0 <= 1],\n",
    "  [X1 <= 2]\n",
    "    [X2 <= 3], \n",
    "       leaf: [{1.0: 10}]\n",
    "       leaf: [{0.0: 10}]\n",
    "    [X4 <= 5], \n",
    "       leaf: [{1.0: 5}]\n",
    "       leaf: [{0.0: 10}]\n",
    "   leaf: [{1.0: 50}]\n",
    "```\n"
   ]
  },
  {
   "cell_type": "code",
   "execution_count": 36,
   "metadata": {},
   "outputs": [
    {
     "name": "stdout",
     "output_type": "stream",
     "text": [
      " [X27 <= 0.14235]\n",
      "\t [X3 <= 696.25]\n",
      "\t\t [X27 <= 0.1349]\n",
      "\t\t\t [X10 <= 0.62555]\n",
      "\t\t\t\t [X21 <= 33.349999999999994]\n",
      "\t\t\t\t\t Leaf: [{1: 216}]\n",
      "\t\t\t\t\t [X21 <= 33.56]\n",
      "\t\t\t\t\t\t Leaf: [{0: 1}]\n",
      "\t\t\t\t\t\t Leaf: [{1: 17}]\n",
      "\t\t\t\t Leaf: [{1: 3}]\n",
      "\t\t\t Leaf: [{1: 11}]\n",
      "\t\t [X1 <= 19.72]\n",
      "\t\t\t [X6 <= 0.073105]\n",
      "\t\t\t\t Leaf: [{1: 7}]\n",
      "\t\t\t\t Leaf: [{0: 3}]\n",
      "\t\t\t Leaf: [{0: 13}]\n",
      "\t [X13 <= 21.924999999999997]\n",
      "\t\t [X21 <= 29.0]\n",
      "\t\t\t Leaf: [{1: 9}]\n",
      "\t\t\t Leaf: [{0: 5}]\n",
      "\t\t [X4 <= 0.079285]\n",
      "\t\t\t Leaf: [{1: 1}]\n",
      "\t\t\t Leaf: [{0: 140}]\n"
     ]
    }
   ],
   "source": [
    "tree = build_tree_chi(X_train, calc_entropy, 10)\n",
    "print_tree(tree,0)"
   ]
  }
 ],
 "metadata": {
  "kernelspec": {
   "display_name": "Python 3",
   "language": "python",
   "name": "python3"
  },
  "language_info": {
   "codemirror_mode": {
    "name": "ipython",
    "version": 3
   },
   "file_extension": ".py",
   "mimetype": "text/x-python",
   "name": "python",
   "nbconvert_exporter": "python",
   "pygments_lexer": "ipython3",
   "version": "3.7.1"
  }
 },
 "nbformat": 4,
 "nbformat_minor": 2
}
